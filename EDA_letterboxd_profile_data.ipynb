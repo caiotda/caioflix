{
 "cells": [
  {
   "cell_type": "code",
   "execution_count": 1,
   "id": "c6f787c7-d608-4cf5-ae5f-c7a3a3f661c5",
   "metadata": {},
   "outputs": [],
   "source": [
    "import pandas as pd\n",
    "import numpy as np"
   ]
  },
  {
   "cell_type": "markdown",
   "id": "bcd22864-a4fa-4ce0-9cb9-e1321c961f5a",
   "metadata": {
    "tags": []
   },
   "source": [
    "## Reading"
   ]
  },
  {
   "cell_type": "code",
   "execution_count": 2,
   "id": "cc1c8515-0ca9-41b7-ba40-5fee501ed459",
   "metadata": {},
   "outputs": [],
   "source": [
    "PROFILE_DATA_PATH = \"profile_data\"\n",
    "DIARY_PATH = f\"{PROFILE_DATA_PATH}/diary.csv\"\n",
    "RATINGS_PATH = f\"{PROFILE_DATA_PATH}/ratings.csv\"\n",
    "REVIEWS_PATH = f\"{PROFILE_DATA_PATH}/reviews.csv\"\n",
    "WATCHED_PATH = f\"{PROFILE_DATA_PATH}/watched.csv\"\n",
    "WATCHLIST_PATH = f\"{PROFILE_DATA_PATH}/watchlist.csv\""
   ]
  },
  {
   "cell_type": "code",
   "execution_count": 3,
   "id": "88893d98-e012-4a57-9262-0a2c7acfb308",
   "metadata": {},
   "outputs": [],
   "source": [
    "diary     = pd.read_csv(DIARY_PATH    )\n",
    "ratings   = pd.read_csv(RATINGS_PATH  )\n",
    "\n",
    "reviews   = pd.read_csv(REVIEWS_PATH  )\n",
    "watched   = pd.read_csv(WATCHED_PATH  )\n",
    "watchlist = pd.read_csv(WATCHLIST_PATH)"
   ]
  },
  {
   "cell_type": "code",
   "execution_count": 4,
   "id": "5cc388c2-a8fd-4f1a-bbc9-4ee06d2c5197",
   "metadata": {},
   "outputs": [],
   "source": [
    "dfs = {\"diary\": diary, \"ratings\": ratings, \"reviews\": reviews, \"watched\": watched, \"watchlist\": watchlist}"
   ]
  },
  {
   "cell_type": "code",
   "execution_count": 5,
   "id": "e210ad61-4d4f-43d5-a05b-234643b41a1e",
   "metadata": {
    "tags": []
   },
   "outputs": [
    {
     "name": "stdout",
     "output_type": "stream",
     "text": [
      "Found 175 NaN values in column Rewatch in diary.\n",
      "Found 133 NaN values in column Tags in diary.\n",
      "Found 97 NaN values in column Rewatch in reviews.\n",
      "Found 69 NaN values in column Tags in reviews.\n",
      "Found 1 NaN values in column Year in watchlist.\n"
     ]
    }
   ],
   "source": [
    "for name, df in dfs.items():\n",
    "    for col in df.columns:\n",
    "        s = df[col].isna().sum()\n",
    "        if(s > 0):\n",
    "            print(f\"Found {s} NaN values in column {col} in {name}.\")"
   ]
  },
  {
   "cell_type": "markdown",
   "id": "5548623f-215e-4b27-9277-1e88e617c45f",
   "metadata": {
    "tags": []
   },
   "source": [
    "### building the dataset\n",
    "\n",
    "- [X] Remove Nan values\n",
    "- [X] Map rewatch number of times the movie was watched\n",
    "- [X] Drop unused columns\n",
    "- [X] Remove duplicates\n",
    "- [X] Check which movies are on rating that are not in diary\n",
    "- [X] Check how movie rating changes after a rewatch (if there is a reting prior)\n",
    "    - it barely changes"
   ]
  },
  {
   "cell_type": "code",
   "execution_count": 6,
   "id": "93660373-2768-4231-bdcc-0144a90bff47",
   "metadata": {},
   "outputs": [],
   "source": [
    "movies_ratings = set(ratings['Name'])\n",
    "movies_diary= set(diary['Name'])\n",
    "\n",
    "only_in_ratings_movies = movies_ratings - movies_ratings.intersection(movies_diary)"
   ]
  },
  {
   "cell_type": "code",
   "execution_count": 7,
   "id": "fe83143c-0f52-493b-8261-51e3e194dbce",
   "metadata": {},
   "outputs": [],
   "source": [
    "only_in_ratings_df = ratings[ratings['Name'].isin(only_in_ratings_movies)]"
   ]
  },
  {
   "cell_type": "code",
   "execution_count": 8,
   "id": "36646196-91b9-4046-b3d9-a0a2d056d6ab",
   "metadata": {},
   "outputs": [
    {
     "data": {
      "text/html": [
       "<div>\n",
       "<style scoped>\n",
       "    .dataframe tbody tr th:only-of-type {\n",
       "        vertical-align: middle;\n",
       "    }\n",
       "\n",
       "    .dataframe tbody tr th {\n",
       "        vertical-align: top;\n",
       "    }\n",
       "\n",
       "    .dataframe thead th {\n",
       "        text-align: right;\n",
       "    }\n",
       "</style>\n",
       "<table border=\"1\" class=\"dataframe\">\n",
       "  <thead>\n",
       "    <tr style=\"text-align: right;\">\n",
       "      <th></th>\n",
       "      <th>Date</th>\n",
       "      <th>Name</th>\n",
       "      <th>Year</th>\n",
       "      <th>Letterboxd URI</th>\n",
       "      <th>Rating</th>\n",
       "    </tr>\n",
       "  </thead>\n",
       "  <tbody>\n",
       "    <tr>\n",
       "      <th>18</th>\n",
       "      <td>2021-08-01</td>\n",
       "      <td>Jiro Dreams of Sushi</td>\n",
       "      <td>2011</td>\n",
       "      <td>https://boxd.it/2ONU</td>\n",
       "      <td>4.5</td>\n",
       "    </tr>\n",
       "    <tr>\n",
       "      <th>19</th>\n",
       "      <td>2021-08-01</td>\n",
       "      <td>Marriage Story</td>\n",
       "      <td>2019</td>\n",
       "      <td>https://boxd.it/hJAw</td>\n",
       "      <td>4.5</td>\n",
       "    </tr>\n",
       "    <tr>\n",
       "      <th>20</th>\n",
       "      <td>2021-08-01</td>\n",
       "      <td>The Meyerowitz Stories (New and Selected)</td>\n",
       "      <td>2017</td>\n",
       "      <td>https://boxd.it/dSp0</td>\n",
       "      <td>4.0</td>\n",
       "    </tr>\n",
       "    <tr>\n",
       "      <th>21</th>\n",
       "      <td>2021-08-01</td>\n",
       "      <td>The Squid and the Whale</td>\n",
       "      <td>2005</td>\n",
       "      <td>https://boxd.it/1VAG</td>\n",
       "      <td>4.0</td>\n",
       "    </tr>\n",
       "    <tr>\n",
       "      <th>22</th>\n",
       "      <td>2021-08-01</td>\n",
       "      <td>Your Name.</td>\n",
       "      <td>2016</td>\n",
       "      <td>https://boxd.it/cUqs</td>\n",
       "      <td>5.0</td>\n",
       "    </tr>\n",
       "    <tr>\n",
       "      <th>...</th>\n",
       "      <td>...</td>\n",
       "      <td>...</td>\n",
       "      <td>...</td>\n",
       "      <td>...</td>\n",
       "      <td>...</td>\n",
       "    </tr>\n",
       "    <tr>\n",
       "      <th>126</th>\n",
       "      <td>2021-08-05</td>\n",
       "      <td>For a Few Dollars More</td>\n",
       "      <td>1965</td>\n",
       "      <td>https://boxd.it/29eu</td>\n",
       "      <td>4.5</td>\n",
       "    </tr>\n",
       "    <tr>\n",
       "      <th>127</th>\n",
       "      <td>2021-08-06</td>\n",
       "      <td>Rushmore</td>\n",
       "      <td>1998</td>\n",
       "      <td>https://boxd.it/1TAO</td>\n",
       "      <td>3.0</td>\n",
       "    </tr>\n",
       "    <tr>\n",
       "      <th>129</th>\n",
       "      <td>2021-08-06</td>\n",
       "      <td>Dirty Harry</td>\n",
       "      <td>1971</td>\n",
       "      <td>https://boxd.it/299E</td>\n",
       "      <td>4.0</td>\n",
       "    </tr>\n",
       "    <tr>\n",
       "      <th>136</th>\n",
       "      <td>2021-08-15</td>\n",
       "      <td>BlacKkKlansman</td>\n",
       "      <td>2018</td>\n",
       "      <td>https://boxd.it/hxL8</td>\n",
       "      <td>4.0</td>\n",
       "    </tr>\n",
       "    <tr>\n",
       "      <th>151</th>\n",
       "      <td>2021-09-01</td>\n",
       "      <td>Snowpiercer</td>\n",
       "      <td>2013</td>\n",
       "      <td>https://boxd.it/3Icg</td>\n",
       "      <td>3.0</td>\n",
       "    </tr>\n",
       "  </tbody>\n",
       "</table>\n",
       "<p>97 rows × 5 columns</p>\n",
       "</div>"
      ],
      "text/plain": [
       "           Date                                       Name  Year  \\\n",
       "18   2021-08-01                       Jiro Dreams of Sushi  2011   \n",
       "19   2021-08-01                             Marriage Story  2019   \n",
       "20   2021-08-01  The Meyerowitz Stories (New and Selected)  2017   \n",
       "21   2021-08-01                    The Squid and the Whale  2005   \n",
       "22   2021-08-01                                 Your Name.  2016   \n",
       "..          ...                                        ...   ...   \n",
       "126  2021-08-05                     For a Few Dollars More  1965   \n",
       "127  2021-08-06                                   Rushmore  1998   \n",
       "129  2021-08-06                                Dirty Harry  1971   \n",
       "136  2021-08-15                             BlacKkKlansman  2018   \n",
       "151  2021-09-01                                Snowpiercer  2013   \n",
       "\n",
       "           Letterboxd URI  Rating  \n",
       "18   https://boxd.it/2ONU     4.5  \n",
       "19   https://boxd.it/hJAw     4.5  \n",
       "20   https://boxd.it/dSp0     4.0  \n",
       "21   https://boxd.it/1VAG     4.0  \n",
       "22   https://boxd.it/cUqs     5.0  \n",
       "..                    ...     ...  \n",
       "126  https://boxd.it/29eu     4.5  \n",
       "127  https://boxd.it/1TAO     3.0  \n",
       "129  https://boxd.it/299E     4.0  \n",
       "136  https://boxd.it/hxL8     4.0  \n",
       "151  https://boxd.it/3Icg     3.0  \n",
       "\n",
       "[97 rows x 5 columns]"
      ]
     },
     "execution_count": 8,
     "metadata": {},
     "output_type": "execute_result"
    }
   ],
   "source": [
    "only_in_ratings_df"
   ]
  },
  {
   "cell_type": "code",
   "execution_count": 9,
   "id": "be80c5c9-372e-415b-b623-877e87ec59ba",
   "metadata": {},
   "outputs": [],
   "source": [
    "df = pd.concat([diary, only_in_ratings_df])"
   ]
  },
  {
   "cell_type": "code",
   "execution_count": 10,
   "id": "c323b1ca-b0d5-4618-a201-59af42f568c7",
   "metadata": {},
   "outputs": [
    {
     "data": {
      "text/html": [
       "<div>\n",
       "<style scoped>\n",
       "    .dataframe tbody tr th:only-of-type {\n",
       "        vertical-align: middle;\n",
       "    }\n",
       "\n",
       "    .dataframe tbody tr th {\n",
       "        vertical-align: top;\n",
       "    }\n",
       "\n",
       "    .dataframe thead th {\n",
       "        text-align: right;\n",
       "    }\n",
       "</style>\n",
       "<table border=\"1\" class=\"dataframe\">\n",
       "  <thead>\n",
       "    <tr style=\"text-align: right;\">\n",
       "      <th></th>\n",
       "      <th>Date</th>\n",
       "      <th>Name</th>\n",
       "      <th>Year</th>\n",
       "      <th>Letterboxd URI</th>\n",
       "      <th>Rating</th>\n",
       "      <th>Rewatch</th>\n",
       "      <th>Tags</th>\n",
       "      <th>Watched Date</th>\n",
       "    </tr>\n",
       "  </thead>\n",
       "  <tbody>\n",
       "    <tr>\n",
       "      <th>0</th>\n",
       "      <td>2021-08-01</td>\n",
       "      <td>Avengers: Endgame</td>\n",
       "      <td>2019</td>\n",
       "      <td>https://boxd.it/22iXvd</td>\n",
       "      <td>4.0</td>\n",
       "      <td>NaN</td>\n",
       "      <td>NaN</td>\n",
       "      <td>2019-04-13</td>\n",
       "    </tr>\n",
       "    <tr>\n",
       "      <th>1</th>\n",
       "      <td>2021-08-01</td>\n",
       "      <td>The Girl Who Leapt Through Time</td>\n",
       "      <td>2006</td>\n",
       "      <td>https://boxd.it/22iXgn</td>\n",
       "      <td>4.0</td>\n",
       "      <td>NaN</td>\n",
       "      <td>NaN</td>\n",
       "      <td>2020-12-30</td>\n",
       "    </tr>\n",
       "    <tr>\n",
       "      <th>2</th>\n",
       "      <td>2021-08-01</td>\n",
       "      <td>Soul</td>\n",
       "      <td>2020</td>\n",
       "      <td>https://boxd.it/22iWYD</td>\n",
       "      <td>4.5</td>\n",
       "      <td>NaN</td>\n",
       "      <td>NaN</td>\n",
       "      <td>2021-01-03</td>\n",
       "    </tr>\n",
       "    <tr>\n",
       "      <th>3</th>\n",
       "      <td>2021-08-01</td>\n",
       "      <td>Saving Private Ryan</td>\n",
       "      <td>1998</td>\n",
       "      <td>https://boxd.it/22iWSF</td>\n",
       "      <td>4.5</td>\n",
       "      <td>NaN</td>\n",
       "      <td>NaN</td>\n",
       "      <td>2021-01-18</td>\n",
       "    </tr>\n",
       "    <tr>\n",
       "      <th>4</th>\n",
       "      <td>2021-08-01</td>\n",
       "      <td>Tenet</td>\n",
       "      <td>2020</td>\n",
       "      <td>https://boxd.it/22iWJj</td>\n",
       "      <td>4.0</td>\n",
       "      <td>NaN</td>\n",
       "      <td>NaN</td>\n",
       "      <td>2021-02-26</td>\n",
       "    </tr>\n",
       "    <tr>\n",
       "      <th>...</th>\n",
       "      <td>...</td>\n",
       "      <td>...</td>\n",
       "      <td>...</td>\n",
       "      <td>...</td>\n",
       "      <td>...</td>\n",
       "      <td>...</td>\n",
       "      <td>...</td>\n",
       "      <td>...</td>\n",
       "    </tr>\n",
       "    <tr>\n",
       "      <th>126</th>\n",
       "      <td>2021-08-05</td>\n",
       "      <td>For a Few Dollars More</td>\n",
       "      <td>1965</td>\n",
       "      <td>https://boxd.it/29eu</td>\n",
       "      <td>4.5</td>\n",
       "      <td>NaN</td>\n",
       "      <td>NaN</td>\n",
       "      <td>NaN</td>\n",
       "    </tr>\n",
       "    <tr>\n",
       "      <th>127</th>\n",
       "      <td>2021-08-06</td>\n",
       "      <td>Rushmore</td>\n",
       "      <td>1998</td>\n",
       "      <td>https://boxd.it/1TAO</td>\n",
       "      <td>3.0</td>\n",
       "      <td>NaN</td>\n",
       "      <td>NaN</td>\n",
       "      <td>NaN</td>\n",
       "    </tr>\n",
       "    <tr>\n",
       "      <th>129</th>\n",
       "      <td>2021-08-06</td>\n",
       "      <td>Dirty Harry</td>\n",
       "      <td>1971</td>\n",
       "      <td>https://boxd.it/299E</td>\n",
       "      <td>4.0</td>\n",
       "      <td>NaN</td>\n",
       "      <td>NaN</td>\n",
       "      <td>NaN</td>\n",
       "    </tr>\n",
       "    <tr>\n",
       "      <th>136</th>\n",
       "      <td>2021-08-15</td>\n",
       "      <td>BlacKkKlansman</td>\n",
       "      <td>2018</td>\n",
       "      <td>https://boxd.it/hxL8</td>\n",
       "      <td>4.0</td>\n",
       "      <td>NaN</td>\n",
       "      <td>NaN</td>\n",
       "      <td>NaN</td>\n",
       "    </tr>\n",
       "    <tr>\n",
       "      <th>151</th>\n",
       "      <td>2021-09-01</td>\n",
       "      <td>Snowpiercer</td>\n",
       "      <td>2013</td>\n",
       "      <td>https://boxd.it/3Icg</td>\n",
       "      <td>3.0</td>\n",
       "      <td>NaN</td>\n",
       "      <td>NaN</td>\n",
       "      <td>NaN</td>\n",
       "    </tr>\n",
       "  </tbody>\n",
       "</table>\n",
       "<p>297 rows × 8 columns</p>\n",
       "</div>"
      ],
      "text/plain": [
       "           Date                             Name  Year  \\\n",
       "0    2021-08-01                Avengers: Endgame  2019   \n",
       "1    2021-08-01  The Girl Who Leapt Through Time  2006   \n",
       "2    2021-08-01                             Soul  2020   \n",
       "3    2021-08-01              Saving Private Ryan  1998   \n",
       "4    2021-08-01                            Tenet  2020   \n",
       "..          ...                              ...   ...   \n",
       "126  2021-08-05           For a Few Dollars More  1965   \n",
       "127  2021-08-06                         Rushmore  1998   \n",
       "129  2021-08-06                      Dirty Harry  1971   \n",
       "136  2021-08-15                   BlacKkKlansman  2018   \n",
       "151  2021-09-01                      Snowpiercer  2013   \n",
       "\n",
       "             Letterboxd URI  Rating Rewatch Tags Watched Date  \n",
       "0    https://boxd.it/22iXvd     4.0     NaN  NaN   2019-04-13  \n",
       "1    https://boxd.it/22iXgn     4.0     NaN  NaN   2020-12-30  \n",
       "2    https://boxd.it/22iWYD     4.5     NaN  NaN   2021-01-03  \n",
       "3    https://boxd.it/22iWSF     4.5     NaN  NaN   2021-01-18  \n",
       "4    https://boxd.it/22iWJj     4.0     NaN  NaN   2021-02-26  \n",
       "..                      ...     ...     ...  ...          ...  \n",
       "126    https://boxd.it/29eu     4.5     NaN  NaN          NaN  \n",
       "127    https://boxd.it/1TAO     3.0     NaN  NaN          NaN  \n",
       "129    https://boxd.it/299E     4.0     NaN  NaN          NaN  \n",
       "136    https://boxd.it/hxL8     4.0     NaN  NaN          NaN  \n",
       "151    https://boxd.it/3Icg     3.0     NaN  NaN          NaN  \n",
       "\n",
       "[297 rows x 8 columns]"
      ]
     },
     "execution_count": 10,
     "metadata": {},
     "output_type": "execute_result"
    }
   ],
   "source": [
    "df"
   ]
  },
  {
   "cell_type": "markdown",
   "id": "bb43b3c4-5e0b-4c31-a77d-fc0fb35ee11f",
   "metadata": {},
   "source": [
    "### Cleaning and formatting"
   ]
  },
  {
   "cell_type": "code",
   "execution_count": 11,
   "id": "64216f49-fb56-4b45-ac29-e9562a717c7a",
   "metadata": {},
   "outputs": [],
   "source": [
    "df['Rewatch'] = df['Rewatch'].map({'Yes': 1, np.nan: 0})\n",
    "df['movie_id'] = df['Letterboxd URI'].map(lambda s: s.split('/')[-1])\n",
    "df['movie_id'] = df['movie_id'].astype(str)\n",
    "diary = diary.drop(columns=['Tags', 'Letterboxd URI', 'Date'])\n",
    "\n",
    "watchlist = watchlist.dropna()"
   ]
  },
  {
   "cell_type": "code",
   "execution_count": 12,
   "id": "01a84e1e-5a6c-4811-8c1f-23b8add8c360",
   "metadata": {},
   "outputs": [],
   "source": [
    "rewatches = df.groupby('Name').size().reset_index(name='count')"
   ]
  },
  {
   "cell_type": "code",
   "execution_count": 13,
   "id": "64daa986-b64c-410e-b331-43bc6633937b",
   "metadata": {},
   "outputs": [],
   "source": [
    "df = df.groupby('Name')\\\n",
    "     .agg(\\\n",
    "          {'Year': min,\\\n",
    "           'Rating': lambda r: list(r)[-1],\\\n",
    "           'Rewatch': lambda x: x.sum() + 1,\\\n",
    "           'Watched Date': max,\\\n",
    "           'movie_id': min})\\\n",
    "      .rename(\n",
    "          columns={'Rating': 'Latest Rating', 'Rewatch': 'Times watched', 'Watched Date': 'latest Date'}\n",
    "      ).reset_index()"
   ]
  },
  {
   "cell_type": "code",
   "execution_count": 57,
   "id": "e5815c8b-7627-4490-b0c4-254f324784eb",
   "metadata": {},
   "outputs": [],
   "source": [
    "df[\"Categorical Rating\"] = pd.cut(df[\"Latest Rating\"], bins=[0.5, 2.5, 3.5, 5.0],labels=['Bad', 'Neutral', 'Good'])\n",
    "df[\"Decade\"] = pd.cut(df[\"Year\"],\\\n",
    "                      bins=[1940, 1949, 1959, 1969, 1979, 1989, 1999, 2009, 2019, 2023],\\\n",
    "                      labels=['1940s', '1950s', '1960s', '1970s', '1980s', '1990s', '2000s', '2010s', '2020s']\\\n",
    "                              )"
   ]
  },
  {
   "cell_type": "code",
   "execution_count": 14,
   "id": "235420a9-b913-4c6f-b516-08a0aa517f87",
   "metadata": {},
   "outputs": [
    {
     "data": {
      "text/html": [
       "<div>\n",
       "<style scoped>\n",
       "    .dataframe tbody tr th:only-of-type {\n",
       "        vertical-align: middle;\n",
       "    }\n",
       "\n",
       "    .dataframe tbody tr th {\n",
       "        vertical-align: top;\n",
       "    }\n",
       "\n",
       "    .dataframe thead th {\n",
       "        text-align: right;\n",
       "    }\n",
       "</style>\n",
       "<table border=\"1\" class=\"dataframe\">\n",
       "  <thead>\n",
       "    <tr style=\"text-align: right;\">\n",
       "      <th></th>\n",
       "      <th>Name</th>\n",
       "      <th>Year</th>\n",
       "      <th>Latest Rating</th>\n",
       "      <th>Times watched</th>\n",
       "      <th>latest Date</th>\n",
       "      <th>movie_id</th>\n",
       "    </tr>\n",
       "  </thead>\n",
       "  <tbody>\n",
       "    <tr>\n",
       "      <th>0</th>\n",
       "      <td>(500) Days of Summer</td>\n",
       "      <td>2009</td>\n",
       "      <td>4.5</td>\n",
       "      <td>2</td>\n",
       "      <td>2022-04-02</td>\n",
       "      <td>23pe3V</td>\n",
       "    </tr>\n",
       "    <tr>\n",
       "      <th>1</th>\n",
       "      <td>10 Things I Hate About You</td>\n",
       "      <td>1999</td>\n",
       "      <td>3.5</td>\n",
       "      <td>1</td>\n",
       "      <td>2023-04-01</td>\n",
       "      <td>43Uvux</td>\n",
       "    </tr>\n",
       "    <tr>\n",
       "      <th>2</th>\n",
       "      <td>12 Angry Men</td>\n",
       "      <td>1957</td>\n",
       "      <td>5.0</td>\n",
       "      <td>1</td>\n",
       "      <td>2021-08-02</td>\n",
       "      <td>22yBiD</td>\n",
       "    </tr>\n",
       "    <tr>\n",
       "      <th>3</th>\n",
       "      <td>1917</td>\n",
       "      <td>2019</td>\n",
       "      <td>4.0</td>\n",
       "      <td>1</td>\n",
       "      <td>NaN</td>\n",
       "      <td>jj4y</td>\n",
       "    </tr>\n",
       "    <tr>\n",
       "      <th>4</th>\n",
       "      <td>2001: A Space Odyssey</td>\n",
       "      <td>1968</td>\n",
       "      <td>4.5</td>\n",
       "      <td>2</td>\n",
       "      <td>2021-08-28</td>\n",
       "      <td>26hLtX</td>\n",
       "    </tr>\n",
       "    <tr>\n",
       "      <th>...</th>\n",
       "      <td>...</td>\n",
       "      <td>...</td>\n",
       "      <td>...</td>\n",
       "      <td>...</td>\n",
       "      <td>...</td>\n",
       "      <td>...</td>\n",
       "    </tr>\n",
       "    <tr>\n",
       "      <th>285</th>\n",
       "      <td>Yesterday</td>\n",
       "      <td>2019</td>\n",
       "      <td>3.0</td>\n",
       "      <td>1</td>\n",
       "      <td>2021-04-03</td>\n",
       "      <td>22iWEX</td>\n",
       "    </tr>\n",
       "    <tr>\n",
       "      <th>286</th>\n",
       "      <td>Your Name.</td>\n",
       "      <td>2016</td>\n",
       "      <td>5.0</td>\n",
       "      <td>1</td>\n",
       "      <td>NaN</td>\n",
       "      <td>cUqs</td>\n",
       "    </tr>\n",
       "    <tr>\n",
       "      <th>287</th>\n",
       "      <td>Zodiac</td>\n",
       "      <td>2007</td>\n",
       "      <td>4.5</td>\n",
       "      <td>1</td>\n",
       "      <td>NaN</td>\n",
       "      <td>27MO</td>\n",
       "    </tr>\n",
       "    <tr>\n",
       "      <th>288</th>\n",
       "      <td>mother!</td>\n",
       "      <td>2017</td>\n",
       "      <td>4.5</td>\n",
       "      <td>1</td>\n",
       "      <td>2021-12-28</td>\n",
       "      <td>2plM9N</td>\n",
       "    </tr>\n",
       "    <tr>\n",
       "      <th>289</th>\n",
       "      <td>tick, tick...BOOM!</td>\n",
       "      <td>2021</td>\n",
       "      <td>1.0</td>\n",
       "      <td>1</td>\n",
       "      <td>2022-01-14</td>\n",
       "      <td>2tTvVT</td>\n",
       "    </tr>\n",
       "  </tbody>\n",
       "</table>\n",
       "<p>290 rows × 6 columns</p>\n",
       "</div>"
      ],
      "text/plain": [
       "                           Name  Year  Latest Rating  Times watched  \\\n",
       "0          (500) Days of Summer  2009            4.5              2   \n",
       "1    10 Things I Hate About You  1999            3.5              1   \n",
       "2                  12 Angry Men  1957            5.0              1   \n",
       "3                          1917  2019            4.0              1   \n",
       "4         2001: A Space Odyssey  1968            4.5              2   \n",
       "..                          ...   ...            ...            ...   \n",
       "285                   Yesterday  2019            3.0              1   \n",
       "286                  Your Name.  2016            5.0              1   \n",
       "287                      Zodiac  2007            4.5              1   \n",
       "288                     mother!  2017            4.5              1   \n",
       "289          tick, tick...BOOM!  2021            1.0              1   \n",
       "\n",
       "    latest Date movie_id  \n",
       "0    2022-04-02   23pe3V  \n",
       "1    2023-04-01   43Uvux  \n",
       "2    2021-08-02   22yBiD  \n",
       "3           NaN     jj4y  \n",
       "4    2021-08-28   26hLtX  \n",
       "..          ...      ...  \n",
       "285  2021-04-03   22iWEX  \n",
       "286         NaN     cUqs  \n",
       "287         NaN     27MO  \n",
       "288  2021-12-28   2plM9N  \n",
       "289  2022-01-14   2tTvVT  \n",
       "\n",
       "[290 rows x 6 columns]"
      ]
     },
     "execution_count": 14,
     "metadata": {},
     "output_type": "execute_result"
    }
   ],
   "source": [
    "df"
   ]
  },
  {
   "cell_type": "markdown",
   "id": "78b97f3d-4675-4784-97a1-270fa5e066ae",
   "metadata": {
    "tags": []
   },
   "source": [
    "### EDA\n",
    "\n",
    "Some questions:\n",
    "\n",
    "* How distributed is my rating; \n",
    "    * Answer: I'm biased towards rating a movie with a good grade (centered around 4/5)\n",
    "* How differently rated are movies that I have rewatched\n",
    "    * Answer: Equally biased towards rating as good movie, but with the mode being centered at 4.5/5.\n",
    "* Do i have a bias towards a certain decade or year in ratings?\n",
    "* Do i have a preference towards a certain decade or year in the decision of watching the movie?\n",
    "* What day of the week have I watched more movies?\n",
    "* What's the month in which have I watched more movies?\n",
    "* What's the shortest i have waited among rewatches? What's the longest?"
   ]
  },
  {
   "cell_type": "code",
   "execution_count": 15,
   "id": "ba3a3f3d-085a-4b2a-8b01-478321714431",
   "metadata": {},
   "outputs": [],
   "source": [
    "import seaborn as sns\n",
    "import matplotlib.pyplot as plt"
   ]
  },
  {
   "cell_type": "code",
   "execution_count": 16,
   "id": "5cdcdba0-52e2-49dd-95bb-fb539a9a4742",
   "metadata": {},
   "outputs": [
    {
     "data": {
      "text/html": [
       "<div>\n",
       "<style scoped>\n",
       "    .dataframe tbody tr th:only-of-type {\n",
       "        vertical-align: middle;\n",
       "    }\n",
       "\n",
       "    .dataframe tbody tr th {\n",
       "        vertical-align: top;\n",
       "    }\n",
       "\n",
       "    .dataframe thead th {\n",
       "        text-align: right;\n",
       "    }\n",
       "</style>\n",
       "<table border=\"1\" class=\"dataframe\">\n",
       "  <thead>\n",
       "    <tr style=\"text-align: right;\">\n",
       "      <th></th>\n",
       "      <th>Year</th>\n",
       "      <th>Latest Rating</th>\n",
       "      <th>Times watched</th>\n",
       "    </tr>\n",
       "  </thead>\n",
       "  <tbody>\n",
       "    <tr>\n",
       "      <th>count</th>\n",
       "      <td>290.000000</td>\n",
       "      <td>290.000000</td>\n",
       "      <td>290.000000</td>\n",
       "    </tr>\n",
       "    <tr>\n",
       "      <th>mean</th>\n",
       "      <td>2004.437931</td>\n",
       "      <td>3.837931</td>\n",
       "      <td>1.086207</td>\n",
       "    </tr>\n",
       "    <tr>\n",
       "      <th>std</th>\n",
       "      <td>18.043717</td>\n",
       "      <td>0.946461</td>\n",
       "      <td>0.304776</td>\n",
       "    </tr>\n",
       "    <tr>\n",
       "      <th>min</th>\n",
       "      <td>1941.000000</td>\n",
       "      <td>0.500000</td>\n",
       "      <td>1.000000</td>\n",
       "    </tr>\n",
       "    <tr>\n",
       "      <th>25%</th>\n",
       "      <td>1996.000000</td>\n",
       "      <td>3.500000</td>\n",
       "      <td>1.000000</td>\n",
       "    </tr>\n",
       "    <tr>\n",
       "      <th>50%</th>\n",
       "      <td>2011.000000</td>\n",
       "      <td>4.000000</td>\n",
       "      <td>1.000000</td>\n",
       "    </tr>\n",
       "    <tr>\n",
       "      <th>75%</th>\n",
       "      <td>2019.000000</td>\n",
       "      <td>4.500000</td>\n",
       "      <td>1.000000</td>\n",
       "    </tr>\n",
       "    <tr>\n",
       "      <th>max</th>\n",
       "      <td>2023.000000</td>\n",
       "      <td>5.000000</td>\n",
       "      <td>3.000000</td>\n",
       "    </tr>\n",
       "  </tbody>\n",
       "</table>\n",
       "</div>"
      ],
      "text/plain": [
       "              Year  Latest Rating  Times watched\n",
       "count   290.000000     290.000000     290.000000\n",
       "mean   2004.437931       3.837931       1.086207\n",
       "std      18.043717       0.946461       0.304776\n",
       "min    1941.000000       0.500000       1.000000\n",
       "25%    1996.000000       3.500000       1.000000\n",
       "50%    2011.000000       4.000000       1.000000\n",
       "75%    2019.000000       4.500000       1.000000\n",
       "max    2023.000000       5.000000       3.000000"
      ]
     },
     "execution_count": 16,
     "metadata": {},
     "output_type": "execute_result"
    }
   ],
   "source": [
    "df.describe()"
   ]
  },
  {
   "cell_type": "code",
   "execution_count": 17,
   "id": "137a73d5-511a-44c2-8174-5c478a195d99",
   "metadata": {},
   "outputs": [
    {
     "data": {
      "text/html": [
       "<div>\n",
       "<style scoped>\n",
       "    .dataframe tbody tr th:only-of-type {\n",
       "        vertical-align: middle;\n",
       "    }\n",
       "\n",
       "    .dataframe tbody tr th {\n",
       "        vertical-align: top;\n",
       "    }\n",
       "\n",
       "    .dataframe thead th {\n",
       "        text-align: right;\n",
       "    }\n",
       "</style>\n",
       "<table border=\"1\" class=\"dataframe\">\n",
       "  <thead>\n",
       "    <tr style=\"text-align: right;\">\n",
       "      <th></th>\n",
       "      <th>Year</th>\n",
       "      <th>Latest Rating</th>\n",
       "      <th>Times watched</th>\n",
       "    </tr>\n",
       "  </thead>\n",
       "  <tbody>\n",
       "    <tr>\n",
       "      <th>Year</th>\n",
       "      <td>1.000000</td>\n",
       "      <td>-0.195508</td>\n",
       "      <td>0.027718</td>\n",
       "    </tr>\n",
       "    <tr>\n",
       "      <th>Latest Rating</th>\n",
       "      <td>-0.195508</td>\n",
       "      <td>1.000000</td>\n",
       "      <td>0.132571</td>\n",
       "    </tr>\n",
       "    <tr>\n",
       "      <th>Times watched</th>\n",
       "      <td>0.027718</td>\n",
       "      <td>0.132571</td>\n",
       "      <td>1.000000</td>\n",
       "    </tr>\n",
       "  </tbody>\n",
       "</table>\n",
       "</div>"
      ],
      "text/plain": [
       "                   Year  Latest Rating  Times watched\n",
       "Year           1.000000      -0.195508       0.027718\n",
       "Latest Rating -0.195508       1.000000       0.132571\n",
       "Times watched  0.027718       0.132571       1.000000"
      ]
     },
     "execution_count": 17,
     "metadata": {},
     "output_type": "execute_result"
    }
   ],
   "source": [
    "df.corr()"
   ]
  },
  {
   "cell_type": "code",
   "execution_count": 18,
   "id": "e02c76dc-bff4-4a50-ba17-ef4696193e0e",
   "metadata": {},
   "outputs": [
    {
     "data": {
      "image/png": "[encoded data removed]",
      "text/plain": [
       "<Figure size 648x432 with 2 Axes>"
      ]
     },
     "metadata": {
      "needs_background": "light"
     },
     "output_type": "display_data"
    }
   ],
   "source": [
    "fig, ax =plt.subplots(figsize=(9,6))\n",
    "sns.heatmap(df.corr());"
   ]
  },
  {
   "cell_type": "markdown",
   "id": "67610d7d-1353-416c-9604-5f371b53c474",
   "metadata": {},
   "source": [
    "### Rating"
   ]
  },
  {
   "cell_type": "markdown",
   "id": "f227037a-5c05-4c3d-9d9b-ade16a8ddd83",
   "metadata": {},
   "source": [
    "In theory, Latest rating is a continuous variable, so a histogram would be more suited. But in practice, we rate movies on a discrete categorial 0.5-5 scale with 0.5 increments. So i have decided to use a countplot for visualization.\n",
    "\n",
    "The distribution appears to be centered at 4: not only visually, but the average is set at 3.8 and the median and mode are 4. it resembles a normal distribution slightly skewed to the right cut off right after its peak."
   ]
  },
  {
   "cell_type": "code",
   "execution_count": 19,
   "id": "d463616f-798b-4c00-80e0-011ac1a56521",
   "metadata": {},
   "outputs": [],
   "source": [
    "ratings = list(np.arange(0.5, 5.0, 0.5)) "
   ]
  },
  {
   "cell_type": "code",
   "execution_count": 20,
   "id": "85ac2053-e356-4b0a-9a30-5ad22de1eb42",
   "metadata": {},
   "outputs": [
    {
     "data": {
      "text/plain": [
       "[0.5, 1.0, 1.5, 2.0, 2.5, 3.0, 3.5, 4.0, 4.5]"
      ]
     },
     "execution_count": 20,
     "metadata": {},
     "output_type": "execute_result"
    }
   ],
   "source": [
    "ratings"
   ]
  },
  {
   "cell_type": "code",
   "execution_count": 21,
   "id": "073ca44a-7bfb-414e-9b67-35c8b0c0b224",
   "metadata": {},
   "outputs": [
    {
     "data": {
      "text/plain": [
       "4.0"
      ]
     },
     "execution_count": 21,
     "metadata": {},
     "output_type": "execute_result"
    }
   ],
   "source": [
    "df['Latest Rating'].mode().values[0]"
   ]
  },
  {
   "cell_type": "code",
   "execution_count": 22,
   "id": "197ec47f-c520-436f-833c-9e98f29214af",
   "metadata": {},
   "outputs": [
    {
     "data": {
      "image/png": "[encoded data removed]",
      "text/plain": [
       "<Figure size 648x432 with 1 Axes>"
      ]
     },
     "metadata": {
      "needs_background": "light"
     },
     "output_type": "display_data"
    }
   ],
   "source": [
    "fig, ax =plt.subplots(figsize=(9,6))\n",
    "ratings = list(np.arange(0.5, 5.0, 0.5))\n",
    "\n",
    "plt.axvline(x=ratings.index(df['Latest Rating'].median()),\n",
    "            color='blue',\n",
    "            ls='--', \n",
    "            lw=2.5)\n",
    "\n",
    "\n",
    "plt.axvline(x=ratings.index(df['Latest Rating'].mode().values[0]),\n",
    "            color='red',\n",
    "            ls='-', \n",
    "            lw=1.5)\n",
    "\n",
    "sns.countplot(x=df['Latest Rating'], ax=ax).set(title=\"Latest Rating distribution\");"
   ]
  },
  {
   "cell_type": "code",
   "execution_count": 23,
   "id": "9d19f093-dcff-4328-a24b-e523b9f91eda",
   "metadata": {},
   "outputs": [
    {
     "data": {
      "image/png": "[encoded data removed]",
      "text/plain": [
       "<Figure size 1296x432 with 2 Axes>"
      ]
     },
     "metadata": {
      "needs_background": "light"
     },
     "output_type": "display_data"
    }
   ],
   "source": [
    "fig, ax =plt.subplots(1,2, figsize=(18,6))\n",
    "ratings = list(np.arange(0.5, 5.0, 0.5))\n",
    "sns.countplot(x=df['Latest Rating'], ax=ax[0]).set(title=\"Latest Rating distribution\")\n",
    "sns.countplot(data=df, x=\"Latest Rating\", hue=\"Times watched\", ax=ax[1]);"
   ]
  },
  {
   "cell_type": "markdown",
   "id": "201d9b14-234e-4b6d-9ac8-7c79e926412a",
   "metadata": {},
   "source": [
    "## Year"
   ]
  },
  {
   "cell_type": "code",
   "execution_count": 24,
   "id": "bd12c316-dce6-4e3d-89ef-3ae1b8fbc1ca",
   "metadata": {},
   "outputs": [
    {
     "data": {
      "text/plain": [
       "[Text(0.5, 1.0, 'Violinplot by year')]"
      ]
     },
     "execution_count": 24,
     "metadata": {},
     "output_type": "execute_result"
    },
    {
     "data": {
      "image/png": "[encoded data removed]",
      "text/plain": [
       "<Figure size 1944x432 with 3 Axes>"
      ]
     },
     "metadata": {
      "needs_background": "light"
     },
     "output_type": "display_data"
    }
   ],
   "source": [
    "fig, ax =plt.subplots(1,3, figsize=(27,6))\n",
    "sns.histplot(x=df['Year'], ax=ax[0]).set(title=\"Year distribution\")\n",
    "sns.boxplot(x=df['Year'], ax=ax[1]).set(title=\"Boxplot by year\")\n",
    "sns.violinplot(x=df['Year'], ax=ax[2]).set(title=\"Violinplot by year\")"
   ]
  },
  {
   "cell_type": "markdown",
   "id": "e0a8919b-2142-4672-bf4f-cbffbecaaf22",
   "metadata": {},
   "source": [
    "Categorizar ano em decadas? Quebrar em períodos? Usar catplot?\n",
    "\n",
    "distplot:\n",
    "* x = ano, y = nota\n",
    "\n",
    "catplot:\n",
    "\n",
    "* x = ano, y = avaliação (converter nota para ruim/regular/bom)\n",
    "* x = decada, y = nota\n",
    "\n",
    "\n",
    "??\n",
    "\n",
    "* x = decada, y = avaliação\n"
   ]
  },
  {
   "cell_type": "code",
   "execution_count": 52,
   "id": "efef0b6c-35b3-42b7-81f2-30b66e2716bf",
   "metadata": {},
   "outputs": [
    {
     "data": {
      "text/plain": [
       "array([1941, 1942, 1946, 1949, 1954, 1957, 1958, 1959, 1962, 1963, 1964,\n",
       "       1965, 1966, 1967, 1968, 1971, 1972, 1974, 1975, 1976, 1977, 1978,\n",
       "       1979, 1980, 1982, 1983, 1984, 1985, 1986, 1988, 1989, 1990, 1991,\n",
       "       1992, 1993, 1994, 1995, 1996, 1997, 1998, 1999, 2000, 2001, 2002,\n",
       "       2003, 2004, 2005, 2006, 2007, 2008, 2009, 2010, 2011, 2012, 2013,\n",
       "       2014, 2015, 2016, 2017, 2018, 2019, 2020, 2021, 2022, 2023])"
      ]
     },
     "execution_count": 52,
     "metadata": {},
     "output_type": "execute_result"
    }
   ],
   "source": [
    "np.sort(df.Year.unique())"
   ]
  },
  {
   "cell_type": "code",
   "execution_count": 58,
   "id": "6a69f8e1-d72e-4d38-9e2a-57f2ac959be0",
   "metadata": {},
   "outputs": [
    {
     "data": {
      "text/html": [
       "<div>\n",
       "<style scoped>\n",
       "    .dataframe tbody tr th:only-of-type {\n",
       "        vertical-align: middle;\n",
       "    }\n",
       "\n",
       "    .dataframe tbody tr th {\n",
       "        vertical-align: top;\n",
       "    }\n",
       "\n",
       "    .dataframe thead th {\n",
       "        text-align: right;\n",
       "    }\n",
       "</style>\n",
       "<table border=\"1\" class=\"dataframe\">\n",
       "  <thead>\n",
       "    <tr style=\"text-align: right;\">\n",
       "      <th></th>\n",
       "      <th>Name</th>\n",
       "      <th>Year</th>\n",
       "      <th>Latest Rating</th>\n",
       "      <th>Times watched</th>\n",
       "      <th>latest Date</th>\n",
       "      <th>movie_id</th>\n",
       "      <th>Categorical Rating</th>\n",
       "      <th>Decade</th>\n",
       "    </tr>\n",
       "  </thead>\n",
       "  <tbody>\n",
       "    <tr>\n",
       "      <th>35</th>\n",
       "      <td>Bottle Rocket</td>\n",
       "      <td>1996</td>\n",
       "      <td>2.5</td>\n",
       "      <td>1</td>\n",
       "      <td>2021-09-12</td>\n",
       "      <td>28oov9</td>\n",
       "      <td>Bad</td>\n",
       "      <td>1990s</td>\n",
       "    </tr>\n",
       "    <tr>\n",
       "      <th>43</th>\n",
       "      <td>Cha Cha Real Smooth</td>\n",
       "      <td>2022</td>\n",
       "      <td>2.5</td>\n",
       "      <td>1</td>\n",
       "      <td>2023-05-10</td>\n",
       "      <td>4exyvr</td>\n",
       "      <td>Bad</td>\n",
       "      <td>2020s</td>\n",
       "    </tr>\n",
       "    <tr>\n",
       "      <th>45</th>\n",
       "      <td>Chip 'n Dale: Rescue Rangers</td>\n",
       "      <td>2022</td>\n",
       "      <td>2.5</td>\n",
       "      <td>1</td>\n",
       "      <td>2022-06-26</td>\n",
       "      <td>2YdvED</td>\n",
       "      <td>Bad</td>\n",
       "      <td>2020s</td>\n",
       "    </tr>\n",
       "    <tr>\n",
       "      <th>60</th>\n",
       "      <td>Don't Look Up</td>\n",
       "      <td>2021</td>\n",
       "      <td>2.5</td>\n",
       "      <td>1</td>\n",
       "      <td>2022-01-06</td>\n",
       "      <td>2rNSur</td>\n",
       "      <td>Bad</td>\n",
       "      <td>2020s</td>\n",
       "    </tr>\n",
       "    <tr>\n",
       "      <th>77</th>\n",
       "      <td>Forgotten</td>\n",
       "      <td>2017</td>\n",
       "      <td>2.5</td>\n",
       "      <td>1</td>\n",
       "      <td>2022-06-05</td>\n",
       "      <td>2Ud9Tv</td>\n",
       "      <td>Bad</td>\n",
       "      <td>2010s</td>\n",
       "    </tr>\n",
       "    <tr>\n",
       "      <th>109</th>\n",
       "      <td>John Wick</td>\n",
       "      <td>2014</td>\n",
       "      <td>2.5</td>\n",
       "      <td>1</td>\n",
       "      <td>2023-01-24</td>\n",
       "      <td>3L3Oi3</td>\n",
       "      <td>Bad</td>\n",
       "      <td>2010s</td>\n",
       "    </tr>\n",
       "    <tr>\n",
       "      <th>118</th>\n",
       "      <td>Licorice Pizza</td>\n",
       "      <td>2021</td>\n",
       "      <td>2.5</td>\n",
       "      <td>1</td>\n",
       "      <td>2022-10-06</td>\n",
       "      <td>3iyxgF</td>\n",
       "      <td>Bad</td>\n",
       "      <td>2020s</td>\n",
       "    </tr>\n",
       "    <tr>\n",
       "      <th>125</th>\n",
       "      <td>Manhattan</td>\n",
       "      <td>1979</td>\n",
       "      <td>2.5</td>\n",
       "      <td>1</td>\n",
       "      <td>2021-07-31</td>\n",
       "      <td>22iVoz</td>\n",
       "      <td>Bad</td>\n",
       "      <td>1970s</td>\n",
       "    </tr>\n",
       "    <tr>\n",
       "      <th>182</th>\n",
       "      <td>Shiva Baby</td>\n",
       "      <td>2020</td>\n",
       "      <td>2.5</td>\n",
       "      <td>1</td>\n",
       "      <td>2021-12-11</td>\n",
       "      <td>2lUz4T</td>\n",
       "      <td>Bad</td>\n",
       "      <td>2020s</td>\n",
       "    </tr>\n",
       "    <tr>\n",
       "      <th>190</th>\n",
       "      <td>Spider-Man: No Way Home</td>\n",
       "      <td>2021</td>\n",
       "      <td>2.5</td>\n",
       "      <td>2</td>\n",
       "      <td>2022-03-20</td>\n",
       "      <td>2GAUYd</td>\n",
       "      <td>Bad</td>\n",
       "      <td>2020s</td>\n",
       "    </tr>\n",
       "    <tr>\n",
       "      <th>192</th>\n",
       "      <td>Squid Game</td>\n",
       "      <td>2021</td>\n",
       "      <td>2.5</td>\n",
       "      <td>1</td>\n",
       "      <td>2021-10-13</td>\n",
       "      <td>2cJZ4x</td>\n",
       "      <td>Bad</td>\n",
       "      <td>2020s</td>\n",
       "    </tr>\n",
       "    <tr>\n",
       "      <th>210</th>\n",
       "      <td>The Blair Witch Project</td>\n",
       "      <td>1999</td>\n",
       "      <td>2.5</td>\n",
       "      <td>1</td>\n",
       "      <td>2022-10-09</td>\n",
       "      <td>3jcUip</td>\n",
       "      <td>Bad</td>\n",
       "      <td>1990s</td>\n",
       "    </tr>\n",
       "    <tr>\n",
       "      <th>248</th>\n",
       "      <td>The Platform</td>\n",
       "      <td>2019</td>\n",
       "      <td>2.5</td>\n",
       "      <td>1</td>\n",
       "      <td>2022-11-20</td>\n",
       "      <td>3s3Jht</td>\n",
       "      <td>Bad</td>\n",
       "      <td>2010s</td>\n",
       "    </tr>\n",
       "    <tr>\n",
       "      <th>249</th>\n",
       "      <td>The Power of the Dog</td>\n",
       "      <td>2021</td>\n",
       "      <td>2.5</td>\n",
       "      <td>1</td>\n",
       "      <td>2021-12-31</td>\n",
       "      <td>2q8z9D</td>\n",
       "      <td>Bad</td>\n",
       "      <td>2020s</td>\n",
       "    </tr>\n",
       "    <tr>\n",
       "      <th>264</th>\n",
       "      <td>The Third Man</td>\n",
       "      <td>1949</td>\n",
       "      <td>2.5</td>\n",
       "      <td>1</td>\n",
       "      <td>2022-12-06</td>\n",
       "      <td>3vq3NZ</td>\n",
       "      <td>Bad</td>\n",
       "      <td>1940s</td>\n",
       "    </tr>\n",
       "    <tr>\n",
       "      <th>272</th>\n",
       "      <td>Triangle of Sadness</td>\n",
       "      <td>2022</td>\n",
       "      <td>2.5</td>\n",
       "      <td>1</td>\n",
       "      <td>2023-02-18</td>\n",
       "      <td>3SBtat</td>\n",
       "      <td>Bad</td>\n",
       "      <td>2020s</td>\n",
       "    </tr>\n",
       "  </tbody>\n",
       "</table>\n",
       "</div>"
      ],
      "text/plain": [
       "                             Name  Year  Latest Rating  Times watched  \\\n",
       "35                  Bottle Rocket  1996            2.5              1   \n",
       "43            Cha Cha Real Smooth  2022            2.5              1   \n",
       "45   Chip 'n Dale: Rescue Rangers  2022            2.5              1   \n",
       "60                  Don't Look Up  2021            2.5              1   \n",
       "77                      Forgotten  2017            2.5              1   \n",
       "109                     John Wick  2014            2.5              1   \n",
       "118                Licorice Pizza  2021            2.5              1   \n",
       "125                     Manhattan  1979            2.5              1   \n",
       "182                    Shiva Baby  2020            2.5              1   \n",
       "190       Spider-Man: No Way Home  2021            2.5              2   \n",
       "192                    Squid Game  2021            2.5              1   \n",
       "210       The Blair Witch Project  1999            2.5              1   \n",
       "248                  The Platform  2019            2.5              1   \n",
       "249          The Power of the Dog  2021            2.5              1   \n",
       "264                 The Third Man  1949            2.5              1   \n",
       "272           Triangle of Sadness  2022            2.5              1   \n",
       "\n",
       "    latest Date movie_id Categorical Rating Decade  \n",
       "35   2021-09-12   28oov9                Bad  1990s  \n",
       "43   2023-05-10   4exyvr                Bad  2020s  \n",
       "45   2022-06-26   2YdvED                Bad  2020s  \n",
       "60   2022-01-06   2rNSur                Bad  2020s  \n",
       "77   2022-06-05   2Ud9Tv                Bad  2010s  \n",
       "109  2023-01-24   3L3Oi3                Bad  2010s  \n",
       "118  2022-10-06   3iyxgF                Bad  2020s  \n",
       "125  2021-07-31   22iVoz                Bad  1970s  \n",
       "182  2021-12-11   2lUz4T                Bad  2020s  \n",
       "190  2022-03-20   2GAUYd                Bad  2020s  \n",
       "192  2021-10-13   2cJZ4x                Bad  2020s  \n",
       "210  2022-10-09   3jcUip                Bad  1990s  \n",
       "248  2022-11-20   3s3Jht                Bad  2010s  \n",
       "249  2021-12-31   2q8z9D                Bad  2020s  \n",
       "264  2022-12-06   3vq3NZ                Bad  1940s  \n",
       "272  2023-02-18   3SBtat                Bad  2020s  "
      ]
     },
     "execution_count": 58,
     "metadata": {},
     "output_type": "execute_result"
    }
   ],
   "source": [
    "df[df[\"Latest Rating\"] == 2.5]"
   ]
  },
  {
   "cell_type": "code",
   "execution_count": 44,
   "id": "3509a994-df4b-45b5-9842-b6c8cc26f2da",
   "metadata": {},
   "outputs": [
    {
     "data": {
      "text/plain": [
       "Good       0.614583\n",
       "Neutral    0.274306\n",
       "Bad        0.111111\n",
       "Name: Categorical Rating, dtype: float64"
      ]
     },
     "execution_count": 44,
     "metadata": {},
     "output_type": "execute_result"
    }
   ],
   "source": [
    "df[\"Categorical Rating\"].value_counts(normalize=True)"
   ]
  },
  {
   "cell_type": "code",
   "execution_count": 59,
   "id": "ae546460-5948-4200-9202-2e34519b72ae",
   "metadata": {},
   "outputs": [
    {
     "data": {
      "text/plain": [
       "2010s    0.344828\n",
       "2020s    0.175862\n",
       "2000s    0.172414\n",
       "1990s    0.120690\n",
       "1980s    0.072414\n",
       "1970s    0.048276\n",
       "1950s    0.027586\n",
       "1960s    0.024138\n",
       "1940s    0.013793\n",
       "Name: Decade, dtype: float64"
      ]
     },
     "execution_count": 59,
     "metadata": {},
     "output_type": "execute_result"
    }
   ],
   "source": [
    "df[\"Decade\"].value_counts(normalize=True)"
   ]
  },
  {
   "cell_type": "code",
   "execution_count": 82,
   "id": "86c2ed7f-fa8a-46cc-ad5c-ce3bf0002309",
   "metadata": {},
   "outputs": [
    {
     "data": {
      "text/plain": [
       "(1940.0, 2027.1)"
      ]
     },
     "execution_count": 82,
     "metadata": {},
     "output_type": "execute_result"
    },
    {
     "data": {
      "image/png": "[encoded data removed]",
      "text/plain": [
       "<Figure size 432x288 with 1 Axes>"
      ]
     },
     "metadata": {
      "needs_background": "light"
     },
     "output_type": "display_data"
    }
   ],
   "source": [
    "sns.scatterplot(data=df,  x=\"Latest Rating\", y=\"Year\", hue=\"Times watched\")\n",
    "sns.set_palette(\"bright\")\n",
    "plt.ylim(1940)"
   ]
  },
  {
   "cell_type": "code",
   "execution_count": 76,
   "id": "12db09d9-565d-4160-a02b-ad5f0f15ee12",
   "metadata": {},
   "outputs": [
    {
     "data": {
      "text/plain": [
       "(1940.0, 2044.0400899655992)"
      ]
     },
     "execution_count": 76,
     "metadata": {},
     "output_type": "execute_result"
    },
    {
     "data": {
      "image/png": "[encoded data removed]",
      "text/plain": [
       "<Figure size 360x360 with 1 Axes>"
      ]
     },
     "metadata": {
      "needs_background": "light"
     },
     "output_type": "display_data"
    }
   ],
   "source": [
    "sns.displot(data=df,  x=\"Latest Rating\", y=\"Year\", kind=\"kde\")\n",
    "plt.ylim(1940)"
   ]
  },
  {
   "cell_type": "code",
   "execution_count": 31,
   "id": "1d2c1584-496e-4dfa-8442-e86f9c0b2a0f",
   "metadata": {},
   "outputs": [
    {
     "data": {
      "text/plain": [
       "<seaborn.axisgrid.FacetGrid at 0x7f37bf962eb0>"
      ]
     },
     "execution_count": 31,
     "metadata": {},
     "output_type": "execute_result"
    },
    {
     "data": {
      "image/png": "[encoded data removed]",
      "text/plain": [
       "<Figure size 360x360 with 1 Axes>"
      ]
     },
     "metadata": {
      "needs_background": "light"
     },
     "output_type": "display_data"
    }
   ],
   "source": [
    "sns.catplot(data=df, x=\"Latest Rating\", y=\"Year\", kind=\"box\")"
   ]
  },
  {
   "cell_type": "code",
   "execution_count": 61,
   "id": "f14bace8-99b1-489a-bc67-8a0c05c4910e",
   "metadata": {},
   "outputs": [
    {
     "data": {
      "text/plain": [
       "<seaborn.axisgrid.FacetGrid at 0x7f37bfa42f10>"
      ]
     },
     "execution_count": 61,
     "metadata": {},
     "output_type": "execute_result"
    },
    {
     "data": {
      "image/png": "[encoded data removed]",
      "text/plain": [
       "<Figure size 360x360 with 1 Axes>"
      ]
     },
     "metadata": {
      "needs_background": "light"
     },
     "output_type": "display_data"
    }
   ],
   "source": [
    "sns.catplot(data=df, x=\"Decade\", y=\"Latest Rating\", kind=\"box\")"
   ]
  },
  {
   "cell_type": "code",
   "execution_count": 68,
   "id": "d2d6a748-8972-4436-9619-da241459385c",
   "metadata": {},
   "outputs": [
    {
     "data": {
      "text/plain": [
       "<seaborn.axisgrid.FacetGrid at 0x7f37bf5267c0>"
      ]
     },
     "execution_count": 68,
     "metadata": {},
     "output_type": "execute_result"
    },
    {
     "data": {
      "image/png": "[encoded data removed]",
      "text/plain": [
       "<Figure size 360x360 with 1 Axes>"
      ]
     },
     "metadata": {
      "needs_background": "light"
     },
     "output_type": "display_data"
    }
   ],
   "source": [
    "sns.catplot(data=df, y=\"Year\", x=\"Categorical Rating\")"
   ]
  }
 ],
 "metadata": {
  "kernelspec": {
   "display_name": "Python 3 (ipykernel)",
   "language": "python",
   "name": "python3"
  },
  "language_info": {
   "codemirror_mode": {
    "name": "ipython",
    "version": 3
   },
   "file_extension": ".py",
   "mimetype": "text/x-python",
   "name": "python",
   "nbconvert_exporter": "python",
   "pygments_lexer": "ipython3",
   "version": "3.8.10"
  }
 },
 "nbformat": 4,
 "nbformat_minor": 5
}
